{
 "cells": [
  {
   "cell_type": "code",
   "execution_count": 1,
   "id": "76a5db3b-8286-4035-b82f-bbbfa0314d7a",
   "metadata": {},
   "outputs": [
    {
     "name": "stderr",
     "output_type": "stream",
     "text": [
      "2024-03-26 17:22:55.573760: I tensorflow/core/platform/cpu_feature_guard.cc:182] This TensorFlow binary is optimized to use available CPU instructions in performance-critical operations.\n",
      "To enable the following instructions: SSE4.1 SSE4.2 AVX AVX2 FMA, in other operations, rebuild TensorFlow with the appropriate compiler flags.\n"
     ]
    }
   ],
   "source": [
    "#import\n",
    "import boto3\n",
    "import os\n",
    "from datetime import datetime, timezone\n",
    "import shutil\n",
    "import configparser\n",
    "\n",
    "import tensorflow as tf\n",
    "from tensorflow.keras.preprocessing import image\n",
    "from tensorflow.keras.applications.mobilenet_v2 import MobileNetV2, preprocess_input, decode_predictions\n",
    "import numpy as np\n",
    "\n",
    "import cv2\n",
    "import numpy as np\n",
    "import io\n",
    "import matplotlib.pyplot as plt\n",
    "from PIL import Image"
   ]
  },
  {
   "cell_type": "code",
   "execution_count": 2,
   "id": "05c0dab9-33cc-478e-8924-578c8912c099",
   "metadata": {},
   "outputs": [],
   "source": [
    "# Create a ConfigParser object\n",
    "config = configparser.ConfigParser()\n",
    "\n",
    "# Read the .cfg file\n",
    "config.read('/mnt/stor/ceph/csb/marsfarm/projects/aws_key/aws_key.cfg')\n",
    "\n",
    "# Accessing the values\n",
    "# Access a specific section\n",
    "settings = config['Secrets']\n",
    "\n",
    "#DO NOT PRINT secret access key or key id\n",
    "session = boto3.Session(\n",
    "    aws_access_key_id=settings['aws_access_key_id'],\n",
    "    aws_secret_access_key=settings['aws_secret_access_key'],\n",
    ")\n",
    "\n",
    "s3 = session.client('s3')"
   ]
  },
  {
   "cell_type": "code",
   "execution_count": 3,
   "id": "78f36e77-f28f-4649-a192-4c23dfb6a5ad",
   "metadata": {},
   "outputs": [
    {
     "name": "stdout",
     "output_type": "stream",
     "text": [
      "['aged-raw-imports', 'dev-jackie-bucket', 'gif-bucket-drew', 'henry-metadata-testing', 'iot-test-buckets', 'micds', 'ml-v043-micds-01', 'ml-v043-micds-02', 'ml-v043-micds-03', 'ml-v043-micds-04', 'ml-v043-micds-05', 'ml-v043-testing-01', 'mm-v021-asa-1', 'mm-v021-asa-1-backup', 'mm-v021-asa-2', 'mm-v021-asa-3', 'mm-v021-asa-4', 'mm-v021-asa-5', 'mm-v021-asa-6', 'mm-v021-asa-7', 'mm-v021-bgc-1', 'mm-v021-bgc-1-backup', 'mm-v021-globalimpactacademy-1', 'mm-v021-marsfarmtesting-1', 'mm-v021-nburlingtonmiddleschool-1', 'mm-v021-scc-1', 'mm-v021-scc-1-backup', 'mm-v021-scc-2', 'mm-v021-scc-3', 'mm-v021-stjoeshighschool-1', 'mm-v021-stjoeshighschool-2', 'mm-v021-stjoeshighschool-backup', 'mm-v023-asa-01', 'mm-v023-asa-02', 'mm-v023-asa-03', 'mm-v023-asa-04', 'mm-v023-asa-05', 'mm-v023-asa-06', 'mm-v023-asa-07', 'mm-v023-asa-08', 'mm-v023-asa-09', 'mm-v023-asa-10', 'mm-v023-asa-11', 'mm-v023-asa-12', 'mm-v023-asa-13', 'mm-v023-asa-14', 'mm-v023-asa-15', 'mm-v023-asa-16', 'mm-v023-asa-17', 'mm-v023-asa-18', 'mm-v023-backup', 'mm-v023-bchs-01', 'mm-v023-bgc-02', 'mm-v023-bgc-03', 'mm-v023-bgc-04', 'mm-v023-bgc-05', 'mm-v023-bgc-06', 'mm-v023-bgc-07', 'mm-v023-bgc-08', 'mm-v023-bps-01', 'mm-v023-cnc-01', 'mm-v023-csh-01', 'mm-v023-csh-02', 'mm-v023-csh-03', 'mm-v023-csh-04', 'mm-v023-csh-05', 'mm-v023-csh-06', 'mm-v023-gcps-01', 'mm-v023-interntest-01', 'mm-v023-lhs-01', 'mm-v023-lhs-02', 'mm-v023-mftest-01', 'mm-v023-ncea-01', 'mm-v023-ncea-02', 'mm-v023-ncea-03', 'mm-v023-ncea-04', 'mm-v023-ncea-05', 'mm-v023-ncea-06', 'mm-v023-ncea-07', 'mm-v023-ncea-08', 'mm-v023-ncea-09', 'mm-v023-ncea-10', 'mm-v023-ncea-11', 'mm-v023-ncea-12', 'mm-v023-ncea-13', 'mm-v023-ncea-14', 'mm-v023-ncea-15', 'mm-v023-ncea-16', 'mm-v023-ncea-17', 'mm-v023-ncea-18', 'mm-v023-ncea-19', 'mm-v023-ncea-20', 'mm-v023-regini-01', 'mm-v023-rtc-01', 'mm-v023-smc-01', 'mm-v023-smc-02', 'mm-v023-smc-03', 'mm-v023-smc-04', 'mm-v023-smc-05', 'mm-v023-trex-01', 'mm-v023-whs-01', 'mm-v023-whs-02', 'mm-v023-whs-03', 'mm-v023-whs-04', 'mm-v023-whs-05', 'mm-v023-whs-06', 'mv1-production', 'mvp-v1-asa-01', 'mvp-v1-asa-02', 'mvp-v1-asa-03', 'mvp-v1-asa-04', 'mvp-v1-asa-05', 'mvp-v1-asa-06', 'mvp-v1-asa-07', 'mvp-v1-asa-08', 'mvp-v1-asa-09', 'mvp-v1-asa-10', 'mvp-v1-asa-11', 'mvp-v1-asa-12', 'mvp-v1-testing-01', 'nate.pratice.bucket']\n"
     ]
    }
   ],
   "source": [
    "# Call S3 to list current buckets\n",
    "response = s3.list_buckets()\n",
    "\n",
    "# Get a list of all bucket names from the response and print them\n",
    "bucket_names = [bucket['Name'] for bucket in response['Buckets']]\n",
    "\n",
    "print(bucket_names)\n",
    "\n",
    "# Pagination configuration\n",
    "paginator = s3.get_paginator('list_objects_v2')\n",
    "page_iterator = paginator.paginate(Bucket='mv1-production')"
   ]
  },
  {
   "cell_type": "code",
   "execution_count": 9,
   "id": "b502ac63-f6f6-4402-b166-1aef23480f02",
   "metadata": {},
   "outputs": [
    {
     "name": "stdout",
     "output_type": "stream",
     "text": [
      "<module 'keras.api._v2.keras.preprocessing.image' from '/home/ajc3xc/miniforge3/envs/plantenv_pcv4_jupyter/lib/python3.11/site-packages/keras/api/_v2/keras/preprocessing/image/__init__.py'>\n"
     ]
    }
   ],
   "source": [
    "# Load the pre-trained MobileNetV2 model\n",
    "model = MobileNetV2(weights='imagenet')\n",
    "\n",
    "def is_plant(image_path):\n",
    "    # Load and preprocess the image\n",
    "    img = image.load_img(image_path, target_size=(224, 224))\n",
    "    img_array = image.img_to_array(img)\n",
    "    img_array_expanded = np.expand_dims(img_array, axis=0)\n",
    "    img_preprocessed = preprocess_input(img_array_expanded)\n",
    "\n",
    "    # Make predictions\n",
    "    predictions = model.predict(img_preprocessed)\n",
    "\n",
    "    # Decode and analyze predictions\n",
    "    decoded_predictions = decode_predictions(predictions, top=5)[0]\n",
    "    print(decoded_predictions)\n",
    "    for _, label, probability in decoded_predictions:\n",
    "        if label in ['daisy', 'dandelion', 'roses', 'sunflowers', 'tulips']:  # Example plant categories\n",
    "            print(f\"Detected a plant ({label}) with probability {probability:.2f}\")\n",
    "            return True\n",
    "    return False"
   ]
  },
  {
   "cell_type": "code",
   "execution_count": 18,
   "id": "814431bc-e48c-454a-965f-3f18faa60070",
   "metadata": {},
   "outputs": [
    {
     "name": "stdout",
     "output_type": "stream",
     "text": [
      "1/1 [==============================] - 0s 41ms/step\n",
      "[('n04310018', 'steam_locomotive', 0.24153101), ('n03991062', 'pot', 0.17790292), ('n03388043', 'fountain', 0.03454009), ('n06874185', 'traffic_light', 0.02664865), ('n04049303', 'rain_barrel', 0.023516107)]\n",
      "1/1 [==============================] - 0s 38ms/step\n",
      "[('n04310018', 'steam_locomotive', 0.27925408), ('n03662601', 'lifeboat', 0.22994518), ('n04252225', 'snowplow', 0.11375483), ('n06874185', 'traffic_light', 0.04462799), ('n03344393', 'fireboat', 0.036165074)]\n",
      "1/1 [==============================] - 0s 38ms/step\n",
      "[('n02966687', \"carpenter's_kit\", 0.18428995), ('n03314780', 'face_powder', 0.086273536), ('n04254120', 'soap_dispenser', 0.048727702), ('n03376595', 'folding_chair', 0.045213047), ('n04442312', 'toaster', 0.035495233)]\n",
      "1/1 [==============================] - 0s 36ms/step\n",
      "[('n03794056', 'mousetrap', 0.086726055), ('n04589890', 'window_screen', 0.06871616), ('n03223299', 'doormat', 0.06063272), ('n03717622', 'manhole_cover', 0.051799115), ('n02910353', 'buckle', 0.0434068)]\n",
      "1/1 [==============================] - 0s 37ms/step\n",
      "[('n04026417', 'purse', 0.0999556), ('n03404251', 'fur_coat', 0.05444174), ('n03709823', 'mailbag', 0.051791195), ('n04548362', 'wallet', 0.037050083), ('n03961711', 'plate_rack', 0.033300206)]\n"
     ]
    },
    {
     "data": {
      "text/plain": [
       "False"
      ]
     },
     "execution_count": 18,
     "metadata": {},
     "output_type": "execute_result"
    }
   ],
   "source": [
    "# As you can see, the results are completely and utterly garbage, and not usable\n",
    "\n",
    "#tomato\n",
    "is_plant(\"/mnt/stor/ceph/csb/marsfarm/projects/inputs/MV1-0039_7.11.23-8.11.23(Tomato)/2023-07-13_2105.jpg\")\n",
    "\n",
    "#empty\n",
    "is_plant(\"/mnt/stor/ceph/csb/marsfarm/projects/inputs/MV1-0039_7.11.23-8.11.23(Tomato)/2023-07-13_1605.jpg\")\n",
    "\n",
    "#pea\n",
    "is_plant(\"/mnt/stor/ceph/csb/marsfarm/projects/inputs/MV1-0041_6.2.23-6.20.23(Peas)/2023-06-01_1905.jpg\")\n",
    "\n",
    "#purple basil\n",
    "is_plant(\"/mnt/stor/ceph/csb/marsfarm/projects/inputs/MV1-0043_6.1.23-6.16.23(Purple Basil)/2023-05-31_2005.jpg\")\n",
    "\n",
    "#purple basil (night)\n",
    "is_plant(\"/mnt/stor/ceph/csb/marsfarm/projects/inputs/MV1-0043_6.1.23-6.16.23(Purple Basil)/2023-05-31_2305.jpg\")\n"
   ]
  },
  {
   "cell_type": "code",
   "execution_count": 14,
   "id": "92a03c27-b319-407f-b767-feab8beeeeab",
   "metadata": {},
   "outputs": [
    {
     "name": "stdout",
     "output_type": "stream",
     "text": [
      "<module 'keras.api._v2.keras.preprocessing.image' from '/home/ajc3xc/miniforge3/envs/plantenv_pcv4_jupyter/lib/python3.11/site-packages/keras/api/_v2/keras/preprocessing/image/__init__.py'>\n",
      "712\n",
      "{}\n",
      "1/1 [==============================] - 2s 2s/step\n",
      "Downloading data from https://storage.googleapis.com/download.tensorflow.org/data/imagenet_class_index.json\n",
      "35363/35363 [==============================] - 0s 1us/step\n",
      "[('n04404412', 'television', 0.13201636), ('n04286575', 'spotlight', 0.07335057), ('n03763968', 'military_uniform', 0.034747068), ('n03773504', 'missile', 0.03397139), ('n04008634', 'projectile', 0.029187417)]\n"
     ]
    },
    {
     "data": {
      "image/png": "[encoded data removed]",
      "text/plain": [
       "<Figure size 640x480 with 1 Axes>"
      ]
     },
     "metadata": {},
     "output_type": "display_data"
    },
    {
     "name": "stdout",
     "output_type": "stream",
     "text": [
      "15767\n"
     ]
    }
   ],
   "source": [
    "print(image)\n",
    "#test out opening an image using opencv and checking if it has a plant in it\n",
    "#I don't think that this is going to work out because t\n",
    "def check_if_has_plant_s3(bucket_name):\n",
    "    paginator = s3.get_paginator('list_objects_v2')\n",
    "    page_iterator = paginator.paginate(Bucket=bucket_name)\n",
    "    \n",
    "    image_extensions = ['.jpg', '.jpeg', '.png', '.gif', '.bmp', '.tiff', '.svg']\n",
    "\n",
    "    for page in page_iterator:\n",
    "        print(len(page.get('Contents', [])))\n",
    "        for obj in page.get('Contents', []):\n",
    "            if any(obj['Key'].lower().endswith(ext) for ext in image_extensions):\n",
    "                response = s3.get_object(Bucket=bucket_name, Key=obj['Key'])\n",
    "                image_data = response['Body'].read()\n",
    "                print(response['Metadata'])\n",
    "                \n",
    "                # Load the image data into a PIL Image object\n",
    "\n",
    "                is_plant(io.BytesIO(image_data))\n",
    "                #print(tf.keras.preprocessing.image.load_img(io.BytesIO(image_data), target_size=(224, 224)))\n",
    "                image = Image.open(io.BytesIO(image_data))\n",
    "            \n",
    "                # Convert the PIL Image to a NumPy array\n",
    "                image_np = np.array(image)\n",
    "            \n",
    "                # Plot the image\n",
    "                # Convert the image from RGB to HSV\n",
    "                hsv = cv2.cvtColor(image_np, cv2.COLOR_BGR2HSV)\n",
    "                \n",
    "                # Define the range of green color in HSV\n",
    "                # Adjusted range of green color in HSV to reduce false positives\n",
    "                lower_green = np.array([25, 40, 40])\n",
    "                upper_green = np.array([90, 255, 255])\n",
    "                \n",
    "                # Threshold the HSV image to get only green colors\n",
    "                mask = cv2.inRange(hsv, lower_green, upper_green)\n",
    "                # Plot the image\n",
    "                plt.imshow(mask)\n",
    "                plt.axis('off')  # Hide axis\n",
    "                plt.show()\n",
    "                count_non_black = cv2.countNonZero(mask)\n",
    "                print(count_non_black)\n",
    "                \n",
    "                # Display the image            \n",
    "                return\n",
    "    print(\"No images found in the bucket.\")\n",
    "\n",
    "check_if_has_plant_s3('mvp-v1-asa-06')\n",
    "#check_if_has_plant_s3('mv1-production')\n",
    "#check_if_has_plant_s3('mvp-v1-asa-05')\n",
    "#mvp-v1-asa-05"
   ]
  },
  {
   "cell_type": "code",
   "execution_count": null,
   "id": "184db7b3-79ea-42b4-b037-5580855750ec",
   "metadata": {},
   "outputs": [],
   "source": [
    "from concurrent.futures import ThreadPoolExecutor, ProcessPoolExecutor\n",
    "def count_images_in_bucket(bucket_name):\n",
    "    # Supported image extensions\n",
    "    image_extensions = ['.jpg', '.jpeg', '.png', '.gif', '.bmp', '.tiff', '.svg']\n",
    "    \n",
    "    # Initialize a counter\n",
    "    image_count = 0\n",
    "    \n",
    "    # Paginator to handle buckets with many objects\n",
    "    paginator = s3.get_paginator('list_objects_v2')\n",
    "    page_iterator = paginator.paginate(Bucket=bucket_name)\n",
    "    \n",
    "    # Iterate through each object in the bucket\n",
    "    def is_image(obj_key):\n",
    "        image_extensions = ['.jpg', '.jpeg', '.png', '.gif', '.bmp', '.tiff', '.svg']\n",
    "        return any(obj_key.lower().endswith(ext) for ext in image_extensions)\n",
    "\n",
    "    keys = []\n",
    "    #page_count = 0\n",
    "    for page in page_iterator:\n",
    "        #add a temporary parameter to the page dictionary, and delete after testing\n",
    "        page[\"ResponseMetadata\"][\"TestDirectoryParameter\"] = 1\n",
    "        print(page[\"ResponseMetadata\"])\n",
    "        del page[\"ResponseMetadata\"][\"TestDirectoryParameter\"]\n",
    "        if 'Contents' in page:\n",
    "            keys.extend([obj['Key'] for obj in page['Contents']])\n",
    "\n",
    "    with ThreadPoolExecutor() as executor:\n",
    "        image_count = executor.map(is_image, keys)\n",
    "    return sum(image_count)\n",
    "\n",
    "count_images_in_bucket('mvp-v1-asa-06')"
   ]
  },
  {
   "cell_type": "code",
   "execution_count": null,
   "id": "3212ceba-f947-41e1-ad9e-6e4e947e76e0",
   "metadata": {},
   "outputs": [],
   "source": []
  }
 ],
 "metadata": {
  "kernelspec": {
   "display_name": "Python 3 (ipykernel)",
   "language": "python",
   "name": "python3"
  },
  "language_info": {
   "codemirror_mode": {
    "name": "ipython",
    "version": 3
   },
   "file_extension": ".py",
   "mimetype": "text/x-python",
   "name": "python",
   "nbconvert_exporter": "python",
   "pygments_lexer": "ipython3",
   "version": "3.11.7"
  }
 },
 "nbformat": 4,
 "nbformat_minor": 5
}
