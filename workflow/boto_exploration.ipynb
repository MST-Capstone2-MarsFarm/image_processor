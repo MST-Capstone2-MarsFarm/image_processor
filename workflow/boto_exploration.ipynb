{
 "cells": [
  {
   "cell_type": "code",
   "execution_count": 1,
   "id": "9ba0669e-5648-45f9-b34c-81468217a747",
   "metadata": {},
   "outputs": [],
   "source": [
    "#import\n",
    "import boto3\n",
    "import os\n",
    "from datetime import datetime, timezone\n",
    "import shutil\n",
    "import configparser\n",
    "from concurrent.futures import ThreadPoolExecutor, ProcessPoolExecutor"
   ]
  },
  {
   "cell_type": "code",
   "execution_count": 2,
   "id": "1fcd736d-2b1a-458a-9eae-ba3c2abed14d",
   "metadata": {},
   "outputs": [],
   "source": [
    "# Create a ConfigParser object\n",
    "config = configparser.ConfigParser()\n",
    "\n",
    "# Read the .cfg file\n",
    "config.read('aws_key.cfg')\n",
    "\n",
    "# Accessing the values\n",
    "# Access a specific section\n",
    "settings = config['Secrets']\n",
    "\n",
    "#DO NOT PRINT secret access key or key id\n",
    "session = boto3.Session(\n",
    "    aws_access_key_id=settings['aws_access_key_id'],\n",
    "    aws_secret_access_key=settings['aws_secret_access_key'],\n",
    ")\n",
    "\n",
    "s3 = session.client('s3')"
   ]
  },
  {
   "cell_type": "code",
   "execution_count": 3,
   "id": "28d2d36b-d234-406c-8014-dcaeb9cb1162",
   "metadata": {},
   "outputs": [
    {
     "name": "stdout",
     "output_type": "stream",
     "text": [
      "['aged-raw-imports', 'dev-jackie-bucket', 'gif-bucket-drew', 'henry-metadata-testing', 'iot-test-buckets', 'micds', 'ml-v043-micds-01', 'ml-v043-micds-02', 'ml-v043-micds-03', 'ml-v043-micds-04', 'ml-v043-micds-05', 'ml-v043-testing-01', 'mm-v021-asa-1', 'mm-v021-asa-1-backup', 'mm-v021-asa-2', 'mm-v021-asa-3', 'mm-v021-asa-4', 'mm-v021-asa-5', 'mm-v021-asa-6', 'mm-v021-asa-7', 'mm-v021-bgc-1', 'mm-v021-bgc-1-backup', 'mm-v021-globalimpactacademy-1', 'mm-v021-marsfarmtesting-1', 'mm-v021-nburlingtonmiddleschool-1', 'mm-v021-scc-1', 'mm-v021-scc-1-backup', 'mm-v021-scc-2', 'mm-v021-scc-3', 'mm-v021-stjoeshighschool-1', 'mm-v021-stjoeshighschool-2', 'mm-v021-stjoeshighschool-backup', 'mm-v023-asa-01', 'mm-v023-asa-02', 'mm-v023-asa-03', 'mm-v023-asa-04', 'mm-v023-asa-05', 'mm-v023-asa-06', 'mm-v023-asa-07', 'mm-v023-asa-08', 'mm-v023-asa-09', 'mm-v023-asa-10', 'mm-v023-asa-11', 'mm-v023-asa-12', 'mm-v023-asa-13', 'mm-v023-asa-14', 'mm-v023-asa-15', 'mm-v023-asa-16', 'mm-v023-asa-17', 'mm-v023-asa-18', 'mm-v023-backup', 'mm-v023-bchs-01', 'mm-v023-bgc-02', 'mm-v023-bgc-03', 'mm-v023-bgc-04', 'mm-v023-bgc-05', 'mm-v023-bgc-06', 'mm-v023-bgc-07', 'mm-v023-bgc-08', 'mm-v023-bps-01', 'mm-v023-cnc-01', 'mm-v023-csh-01', 'mm-v023-csh-02', 'mm-v023-csh-03', 'mm-v023-csh-04', 'mm-v023-csh-05', 'mm-v023-csh-06', 'mm-v023-gcps-01', 'mm-v023-interntest-01', 'mm-v023-lhs-01', 'mm-v023-lhs-02', 'mm-v023-mftest-01', 'mm-v023-ncea-01', 'mm-v023-ncea-02', 'mm-v023-ncea-03', 'mm-v023-ncea-04', 'mm-v023-ncea-05', 'mm-v023-ncea-06', 'mm-v023-ncea-07', 'mm-v023-ncea-08', 'mm-v023-ncea-09', 'mm-v023-ncea-10', 'mm-v023-ncea-11', 'mm-v023-ncea-12', 'mm-v023-ncea-13', 'mm-v023-ncea-14', 'mm-v023-ncea-15', 'mm-v023-ncea-16', 'mm-v023-ncea-17', 'mm-v023-ncea-18', 'mm-v023-ncea-19', 'mm-v023-ncea-20', 'mm-v023-regini-01', 'mm-v023-rtc-01', 'mm-v023-smc-01', 'mm-v023-smc-02', 'mm-v023-smc-03', 'mm-v023-smc-04', 'mm-v023-smc-05', 'mm-v023-trex-01', 'mm-v023-whs-01', 'mm-v023-whs-02', 'mm-v023-whs-03', 'mm-v023-whs-04', 'mm-v023-whs-05', 'mm-v023-whs-06', 'mv1-production', 'mvp-v1-asa-01', 'mvp-v1-asa-02', 'mvp-v1-asa-03', 'mvp-v1-asa-04', 'mvp-v1-asa-05', 'mvp-v1-asa-06', 'mvp-v1-asa-07', 'mvp-v1-asa-08', 'mvp-v1-asa-09', 'mvp-v1-asa-10', 'mvp-v1-asa-11', 'mvp-v1-asa-12', 'mvp-v1-testing-01', 'nate.pratice.bucket']\n"
     ]
    }
   ],
   "source": [
    "# Call S3 to list current buckets\n",
    "response = s3.list_buckets()\n",
    "\n",
    "# Get a list of all bucket names from the response and print them\n",
    "bucket_names = [bucket['Name'] for bucket in response['Buckets']]\n",
    "\n",
    "print(bucket_names)\n",
    "\n",
    "# Pagination configuration\n",
    "paginator = s3.get_paginator('list_objects_v2')\n",
    "page_iterator = paginator.paginate(Bucket='mv1-production')"
   ]
  },
  {
   "cell_type": "code",
   "execution_count": 4,
   "id": "a27afedf-5bfa-4a1e-b494-0d6ec7d2100b",
   "metadata": {},
   "outputs": [],
   "source": [
    "# Function to process and download images\n",
    "def process_and_download_images(response):\n",
    "    if 'Contents' in response:\n",
    "        for obj in response['Contents']:\n",
    "            return obj['Size']"
   ]
  },
  {
   "cell_type": "code",
   "execution_count": 5,
   "id": "27ba5983-51ce-4002-b740-057a94b3e409",
   "metadata": {},
   "outputs": [],
   "source": [
    "def list_folders_in_bucket(bucket_name):\n",
    "    paginator = s3.get_paginator('list_objects_v2')\n",
    "\n",
    "    folders = set()\n",
    "    # Use the paginator to handle buckets with many items\n",
    "    for page in paginator.paginate(Bucket=bucket_name):\n",
    "        # Filter for 'folders' by checking if the key ends with a '/'\n",
    "        if 'Contents' in page:\n",
    "            for obj in page.get('Contents', []):\n",
    "                key = obj['Key']\n",
    "                if '/' in key:\n",
    "                    folder = key.rsplit('/', 1)[0] + '/'\n",
    "                    folders.add(folder)\n",
    "\n",
    "    return folders\n",
    "#LOT OF FOLDERS\n",
    "#print(list_folders_in_bucket('mm-v023-regini-01'))"
   ]
  },
  {
   "cell_type": "code",
   "execution_count": 6,
   "id": "4ef9af69-2d3a-438d-bca2-e9f59f33ba42",
   "metadata": {},
   "outputs": [],
   "source": [
    "def count_images_in_bucket(bucket_name):\n",
    "    # Supported image extensions\n",
    "    image_extensions = ['.jpg', '.jpeg', '.png', '.gif', '.bmp', '.tiff', '.svg']\n",
    "    \n",
    "    # Initialize a counter\n",
    "    image_count = 0\n",
    "    \n",
    "    # Paginator to handle buckets with many objects\n",
    "    paginator = s3.get_paginator('list_objects_v2')\n",
    "    page_iterator = paginator.paginate(Bucket=bucket_name)\n",
    "    \n",
    "    # Iterate through each object in the bucket\n",
    "    def is_image(obj_key):\n",
    "        image_extensions = ['.jpg', '.jpeg', '.png', '.gif', '.bmp', '.tiff', '.svg']\n",
    "        return any(obj_key.lower().endswith(ext) for ext in image_extensions)\n",
    "\n",
    "    keys = []\n",
    "    for page in page_iterator:\n",
    "        if 'Contents' in page:\n",
    "            keys.extend([obj['Key'] for obj in page['Contents']])\n",
    "\n",
    "    with ThreadPoolExecutor() as executor:\n",
    "        image_count = executor.map(is_image, keys)\n",
    "    return sum(image_count)\n",
    "\n",
    "#print(count_images_in_bucket('mv1-production'))"
   ]
  },
  {
   "cell_type": "code",
   "execution_count": 7,
   "id": "5593f3a9-5e8b-469a-bc3a-9132002388d0",
   "metadata": {},
   "outputs": [],
   "source": [
    "def get_metadata(bucket_name):\n",
    "    paginator = s3.get_paginator('list_objects_v2')\n",
    "    for page in paginator.paginate(Bucket=bucket_name):\n",
    "        # Each page is a dictionary that contains a list of objects under 'Contents'\n",
    "        for obj in page.get('Contents', []):\n",
    "            response = s3.head_object(Bucket=bucket_name, Key=obj['Key'])\n",
    "            metadata = response.get('Metadata', {})\n",
    "            #print(response)\n",
    "#get_metadata('mm-v023-regini-01')       "
   ]
  },
  {
   "cell_type": "code",
   "execution_count": 9,
   "id": "f3431975-da56-4152-9640-615add111a52",
   "metadata": {},
   "outputs": [
    {
     "data": {
      "text/plain": [
       "{'.jpg'}"
      ]
     },
     "execution_count": 9,
     "metadata": {},
     "output_type": "execute_result"
    }
   ],
   "source": [
    "#mm-v023-regini-01 bucket only\n",
    "# Initialize the S3 client outside of the function if it's used across multiple functions\n",
    "def get_unique_file_types(bucket_name):\n",
    "    paginator = s3.get_paginator('list_objects_v2')\n",
    "    page_iterator = paginator.paginate(Bucket=bucket_name)\n",
    "\n",
    "    file_types = set()\n",
    "\n",
    "    for page in page_iterator:\n",
    "        if 'Contents' in page:\n",
    "            for obj in page['Contents']:\n",
    "                _, ext = os.path.splitext(obj['Key'])\n",
    "                if ext:  # Ensure there is an extension\n",
    "                    file_types.add(ext.lower())\n",
    "\n",
    "    return file_types\n",
    "get_unique_file_types('mm-v023-backup')"
   ]
  },
  {
   "cell_type": "code",
   "execution_count": null,
   "id": "eb506b92-55f9-4d3e-a709-59ce0040bbb3",
   "metadata": {},
   "outputs": [],
   "source": []
  }
 ],
 "metadata": {
  "kernelspec": {
   "display_name": "Python 3 (ipykernel)",
   "language": "python",
   "name": "python3"
  },
  "language_info": {
   "codemirror_mode": {
    "name": "ipython",
    "version": 3
   },
   "file_extension": ".py",
   "mimetype": "text/x-python",
   "name": "python",
   "nbconvert_exporter": "python",
   "pygments_lexer": "ipython3",
   "version": "3.11.7"
  }
 },
 "nbformat": 4,
 "nbformat_minor": 5
}
