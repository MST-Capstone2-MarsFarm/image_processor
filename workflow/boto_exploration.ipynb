{
 "cells": [
  {
   "cell_type": "code",
   "execution_count": 1,
   "id": "9ba0669e-5648-45f9-b34c-81468217a747",
   "metadata": {},
   "outputs": [],
   "source": [
    "#import\n",
    "import boto3\n",
    "import os\n",
    "from datetime import datetime, timezone\n",
    "import shutil\n",
    "import configparser"
   ]
  },
  {
   "cell_type": "code",
   "execution_count": 2,
   "id": "1fcd736d-2b1a-458a-9eae-ba3c2abed14d",
   "metadata": {},
   "outputs": [],
   "source": [
    "# Create a ConfigParser object\n",
    "config = configparser.ConfigParser()\n",
    "\n",
    "# Read the .cfg file\n",
    "config.read('aws_key.cfg')\n",
    "\n",
    "# Accessing the values\n",
    "# Access a specific section\n",
    "settings = config['Secrets']\n",
    "\n",
    "#DO NOT PRINT secret access key or key id\n",
    "session = boto3.Session(\n",
    "    aws_access_key_id=settings['aws_access_key_id'],\n",
    "    aws_secret_access_key=settings['aws_secret_access_key'],\n",
    ")"
   ]
  },
  {
   "cell_type": "code",
   "execution_count": 5,
   "id": "28d2d36b-d234-406c-8014-dcaeb9cb1162",
   "metadata": {},
   "outputs": [],
   "source": [
    "s3 = session.client('s3')\n",
    "#print(s3.list_buckets())"
   ]
  },
  {
   "cell_type": "code",
   "execution_count": null,
   "id": "761c87c1-353f-44a0-a63b-2efad3714fc2",
   "metadata": {},
   "outputs": [],
   "source": []
  }
 ],
 "metadata": {
  "kernelspec": {
   "display_name": "Python 3 (ipykernel)",
   "language": "python",
   "name": "python3"
  },
  "language_info": {
   "codemirror_mode": {
    "name": "ipython",
    "version": 3
   },
   "file_extension": ".py",
   "mimetype": "text/x-python",
   "name": "python",
   "nbconvert_exporter": "python",
   "pygments_lexer": "ipython3",
   "version": "3.11.7"
  }
 },
 "nbformat": 4,
 "nbformat_minor": 5
}
